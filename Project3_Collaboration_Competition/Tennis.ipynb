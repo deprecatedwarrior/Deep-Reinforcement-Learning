{
 "cells": [
  {
   "cell_type": "markdown",
   "metadata": {},
   "source": [
    "# Collaboration and Competition\n",
    "\n",
    "---\n",
    "\n",
    "You are welcome to use this coding environment to train your agent for the project.  Follow the instructions below to get started!\n",
    "\n",
    "### 1. Start the Environment\n",
    "\n",
    "Run the next code cell to install a few packages.  This line will take a few minutes to run!"
   ]
  },
  {
   "cell_type": "code",
   "execution_count": 2,
   "metadata": {},
   "outputs": [],
   "source": [
    "!pip -q install ./python"
   ]
  },
  {
   "cell_type": "markdown",
   "metadata": {},
   "source": [
    "The environment is already saved in the Workspace and can be accessed at the file path provided below. "
   ]
  },
  {
   "cell_type": "code",
   "execution_count": 3,
   "metadata": {},
   "outputs": [
    {
     "name": "stderr",
     "output_type": "stream",
     "text": [
      "INFO:unityagents:\n",
      "'Academy' started successfully!\n",
      "Unity Academy name: Academy\n",
      "        Number of Brains: 1\n",
      "        Number of External Brains : 1\n",
      "        Lesson number : 0\n",
      "        Reset Parameters :\n",
      "\t\t\n",
      "Unity brain name: TennisBrain\n",
      "        Number of Visual Observations (per agent): 0\n",
      "        Vector Observation space type: continuous\n",
      "        Vector Observation space size (per agent): 8\n",
      "        Number of stacked Vector Observation: 3\n",
      "        Vector Action space type: continuous\n",
      "        Vector Action space size (per agent): 2\n",
      "        Vector Action descriptions: , \n"
     ]
    }
   ],
   "source": [
    "from unityagents import UnityEnvironment\n",
    "import numpy as np\n",
    "import time\n",
    "import torch\n",
    "import numpy as np\n",
    "import matplotlib.pyplot as plt\n",
    "from collections import deque\n",
    "from datetime import datetime, timedelta\n",
    "\n",
    "from ddpg_agent import Agent\n",
    "\n",
    "\n",
    "env = UnityEnvironment(file_name=\"/data/Tennis_Linux_NoVis/Tennis\")"
   ]
  },
  {
   "cell_type": "markdown",
   "metadata": {},
   "source": [
    "Environments contain **_brains_** which are responsible for deciding the actions of their associated agents. Here we check for the first brain available, and set it as the default brain we will be controlling from Python."
   ]
  },
  {
   "cell_type": "code",
   "execution_count": 4,
   "metadata": {},
   "outputs": [],
   "source": [
    "# get the default brain\n",
    "brain_name = env.brain_names[0]\n",
    "brain = env.brains[brain_name]"
   ]
  },
  {
   "cell_type": "markdown",
   "metadata": {},
   "source": [
    "### 2. Examine the State and Action Spaces\n",
    "\n",
    "Run the code cell below to print some information about the environment."
   ]
  },
  {
   "cell_type": "code",
   "execution_count": 5,
   "metadata": {},
   "outputs": [
    {
     "name": "stdout",
     "output_type": "stream",
     "text": [
      "Number of agents: 2\n",
      "Size of each action: 2\n",
      "There are 2 agents. Each observes a state with length: 24\n",
      "The state for the first agent looks like: [ 0.          0.          0.          0.          0.          0.          0.\n",
      "  0.          0.          0.          0.          0.          0.          0.\n",
      "  0.          0.         -6.65278625 -1.5        -0.          0.\n",
      "  6.83172083  6.         -0.          0.        ]\n"
     ]
    }
   ],
   "source": [
    "# reset the environment\n",
    "env_info = env.reset(train_mode=True)[brain_name]\n",
    "\n",
    "# number of agents \n",
    "num_agents = len(env_info.agents)\n",
    "print('Number of agents:', num_agents)\n",
    "\n",
    "# size of each action\n",
    "action_size = brain.vector_action_space_size\n",
    "print('Size of each action:', action_size)\n",
    "\n",
    "# examine the state space \n",
    "states = env_info.vector_observations\n",
    "state_size = states.shape[1]\n",
    "print('There are {} agents. Each observes a state with length: {}'.format(states.shape[0], state_size))\n",
    "print('The state for the first agent looks like:', states[0])"
   ]
  },
  {
   "cell_type": "markdown",
   "metadata": {},
   "source": [
    "### 3. Take Random Actions in the Environment\n",
    "\n",
    "In the next code cell, you will learn how to use the Python API to control the agent and receive feedback from the environment.\n",
    "\n",
    "Note that **in this coding environment, you will not be able to watch the agents while they are training**, and you should set `train_mode=True` to restart the environment."
   ]
  },
  {
   "cell_type": "code",
   "execution_count": 6,
   "metadata": {},
   "outputs": [
    {
     "name": "stdout",
     "output_type": "stream",
     "text": [
      "Total score (averaged over agents) this episode: -0.004999999888241291\n",
      "Total score (averaged over agents) this episode: -0.004999999888241291\n",
      "Total score (averaged over agents) this episode: -0.004999999888241291\n",
      "Total score (averaged over agents) this episode: -0.004999999888241291\n",
      "Total score (averaged over agents) this episode: 0.04500000085681677\n"
     ]
    }
   ],
   "source": [
    "for i in range(5):                                         # play game for 5 episodes\n",
    "    env_info = env.reset(train_mode=False)[brain_name]     # reset the environment    \n",
    "    states = env_info.vector_observations                  # get the current state (for each agent)\n",
    "    scores = np.zeros(num_agents)                          # initialize the score (for each agent)\n",
    "    while True:\n",
    "        actions = np.random.randn(num_agents, action_size) # select an action (for each agent)\n",
    "        actions = np.clip(actions, -1, 1)                  # all actions between -1 and 1\n",
    "        env_info = env.step(actions)[brain_name]           # send all actions to tne environment\n",
    "        next_states = env_info.vector_observations         # get next state (for each agent)\n",
    "        rewards = env_info.rewards                         # get reward (for each agent)\n",
    "        dones = env_info.local_done                        # see if episode finished\n",
    "        scores += env_info.rewards                         # update the score (for each agent)\n",
    "        states = next_states                               # roll over states to next time step\n",
    "        if np.any(dones):                                  # exit loop if episode finished\n",
    "            break\n",
    "    print('Total score (averaged over agents) this episode: {}'.format(np.mean(scores)))"
   ]
  },
  {
   "cell_type": "code",
   "execution_count": 7,
   "metadata": {},
   "outputs": [
    {
     "name": "stdout",
     "output_type": "stream",
     "text": [
      "Actor(\n",
      "  (fc1): Linear(in_features=24, out_features=256, bias=True)\n",
      "  (fc2): Linear(in_features=256, out_features=256, bias=True)\n",
      "  (fc3): Linear(in_features=256, out_features=2, bias=True)\n",
      "  (bn1): BatchNorm1d(256, eps=1e-05, momentum=0.1, affine=True, track_running_stats=True)\n",
      ")\n",
      "Critic(\n",
      "  (fcs1): Linear(in_features=24, out_features=256, bias=True)\n",
      "  (fc2): Linear(in_features=258, out_features=256, bias=True)\n",
      "  (fc3): Linear(in_features=256, out_features=1, bias=True)\n",
      "  (bn1): BatchNorm1d(256, eps=1e-05, momentum=0.1, affine=True, track_running_stats=True)\n",
      ")\n"
     ]
    }
   ],
   "source": [
    "# Examine the agents\n",
    "agents = Agent(state_size = state_size, \n",
    "               action_size = action_size,\n",
    "               num_agents = num_agents, \n",
    "               random_seed = 0)\n",
    "print(agents.actor_local)\n",
    "print(agents.critic_local)"
   ]
  },
  {
   "cell_type": "code",
   "execution_count": 8,
   "metadata": {},
   "outputs": [],
   "source": [
    "# ddpg_train function\n",
    "\n",
    "def ddpg_train(n_episodes = 5000, max_t = 1000):\n",
    "    \n",
    "    # lists to store final results\n",
    "    scores_deque = deque(maxlen = 100)\n",
    "    scores = []\n",
    "    avg_score_list = []\n",
    "    print_every = 100\n",
    "    target_score = 0.5\n",
    "    \n",
    "    # train loop\n",
    "    for i_episode in range(1, n_episodes + 1):\n",
    "        \n",
    "        # resetting the environment\n",
    "        env_info = env.reset(train_mode = True)[brain_name]\n",
    "        \n",
    "        # get the current state for each agent\n",
    "        state = env_info.vector_observations\n",
    "        \n",
    "        # reset \n",
    "        agents.reset()\n",
    "        \n",
    "        # initialize scores for each agent\n",
    "        score = np.zeros(num_agents)\n",
    "        \n",
    "        # for current episode till max timesteps\n",
    "        for t in range(max_t):\n",
    "            action = agents.act(state) \n",
    "            env_info = env.step(action)[brain_name] \n",
    "            next_state = env_info.vector_observations\n",
    "            rewards = env_info.rewards\n",
    "            dones = env_info.local_done\n",
    "            agents.step(state, action, rewards, next_state, dones)\n",
    "            state = next_state\n",
    "            score += rewards\n",
    "            \n",
    "            if np.any(dones):\n",
    "                break \n",
    "        \n",
    "        # avergae scores for this episode\n",
    "        scores_deque.append(np.mean(score))\n",
    "        scores.append(np.mean(score))\n",
    "        \n",
    "        # average scores for all episodes\n",
    "        avg_score = np.mean(scores_deque)\n",
    "        avg_score_list.append(avg_score)\n",
    "        \n",
    "        print('\\rEpisode {}\\tAverage Score: {:.2f}\\tScore: {:.3f}'.\\\n",
    "              format(i_episode, avg_score, np.mean(score)), end=\"\")\n",
    "        \n",
    "        if (i_episode % print_every) == 0 or (avg_score > target_score):\n",
    "            print('\\rEpisode {}\\tAverage Score: {:.2f}'.format(i_episode, avg_score))\n",
    "            \n",
    "            torch.save(agents.actor_local.state_dict(), 'checkpoint_actor.pth')\n",
    "            torch.save(agents.critic_local.state_dict(), 'checkpoint_critic.pth') \n",
    "            \n",
    "            if avg_score > target_score:\n",
    "                print('\\nEnvironment solved in {:d} episodes!'.format(i_episode))\n",
    "                break\n",
    "        \n",
    "    return scores, avg_score_list"
   ]
  },
  {
   "cell_type": "code",
   "execution_count": 9,
   "metadata": {},
   "outputs": [
    {
     "name": "stdout",
     "output_type": "stream",
     "text": [
      "Episode 100\tAverage Score: 0.00\tScore: -0.005\n",
      "Episode 200\tAverage Score: 0.02\tScore: -0.0055\n",
      "Episode 300\tAverage Score: -0.00\tScore: -0.005\n",
      "Episode 400\tAverage Score: -0.00\tScore: -0.005\n",
      "Episode 500\tAverage Score: -0.00\tScore: -0.005\n",
      "Episode 600\tAverage Score: -0.00\tScore: -0.005\n",
      "Episode 700\tAverage Score: -0.00\tScore: -0.005\n",
      "Episode 800\tAverage Score: 0.02\tScore: 0.04555\n",
      "Episode 900\tAverage Score: 0.05\tScore: 0.0455\n",
      "Episode 1000\tAverage Score: 0.09\tScore: 0.045\n",
      "Episode 1100\tAverage Score: 0.10\tScore: 0.2455\n",
      "Episode 1200\tAverage Score: 0.13\tScore: 0.0455\n",
      "Episode 1300\tAverage Score: 0.33\tScore: 0.0455\n",
      "Episode 1370\tAverage Score: 0.51\tScore: 1.0955\n",
      "\n",
      "Environment solved in 1370 episodes!\n"
     ]
    },
    {
     "data": {
      "image/png": "[encoded data removed]",
      "text/plain": [
       "<matplotlib.figure.Figure at 0x7f99a05bb320>"
      ]
     },
     "metadata": {
      "needs_background": "light"
     },
     "output_type": "display_data"
    }
   ],
   "source": [
    "# run the ddpg algorithm\n",
    "scores, avg_score_list = ddpg_train()\n",
    "\n",
    "# plot results\n",
    "fig = plt.figure()\n",
    "ax = fig.add_subplot(111)\n",
    "plt.plot(np.arange(1, len(scores) + 1), scores)\n",
    "plt.plot(np.arange(1, len(avg_score_list) + 1), avg_score_list)\n",
    "plt.ylabel('Score')\n",
    "plt.xlabel('Episode #')\n",
    "plt.show()"
   ]
  },
  {
   "cell_type": "code",
   "execution_count": null,
   "metadata": {},
   "outputs": [],
   "source": [
    "env.close()"
   ]
  },
  {
   "cell_type": "code",
   "execution_count": 1,
   "metadata": {},
   "outputs": [
    {
     "name": "stdout",
     "output_type": "stream",
     "text": [
      "Tennis.ipynb\n",
      "__pycache__/\n",
      "__pycache__/ddpg_agent.cpython-36.pyc\n",
      "__pycache__/model.cpython-36.pyc\n",
      "checkpoint_actor.pth\n",
      "checkpoint_critic.pth\n",
      "ddpg_agent.py\n",
      "model.py\n",
      "python/\n",
      "python/trainer_config.yaml\n",
      "python/README.md\n",
      "python/communicator_objects/\n",
      "python/communicator_objects/unity_message_pb2.py\n",
      "python/communicator_objects/unity_input_pb2.py\n",
      "python/communicator_objects/unity_to_external_pb2.py\n",
      "python/communicator_objects/header_pb2.py\n",
      "python/communicator_objects/unity_rl_input_pb2.py\n",
      "python/communicator_objects/unity_rl_initialization_input_pb2.py\n",
      "python/communicator_objects/unity_to_external_pb2_grpc.py\n",
      "python/communicator_objects/brain_parameters_proto_pb2.py\n",
      "python/communicator_objects/space_type_proto_pb2.py\n",
      "python/communicator_objects/agent_info_proto_pb2.py\n",
      "python/communicator_objects/resolution_proto_pb2.py\n",
      "python/communicator_objects/agent_action_proto_pb2.py\n",
      "python/communicator_objects/__init__.py\n",
      "python/communicator_objects/engine_configuration_proto_pb2.py\n",
      "python/communicator_objects/command_proto_pb2.py\n",
      "python/communicator_objects/unity_rl_initialization_output_pb2.py\n",
      "python/communicator_objects/brain_type_proto_pb2.py\n",
      "python/communicator_objects/environment_parameters_proto_pb2.py\n",
      "python/communicator_objects/unity_output_pb2.py\n",
      "python/communicator_objects/unity_rl_output_pb2.py\n",
      "python/learn.py\n",
      "python/curricula/\n",
      "python/curricula/push.json\n",
      "python/curricula/wall.json\n",
      "python/curricula/test.json\n",
      "python/Basics.ipynb\n",
      "python/tests/\n",
      "python/tests/test_unityagents.py\n",
      "python/tests/test_bc.py\n",
      "python/tests/__init__.py\n",
      "python/tests/test_ppo.py\n",
      "python/tests/mock_communicator.py\n",
      "python/tests/test_unitytrainers.py\n",
      "python/setup.py\n",
      "python/requirements.txt\n",
      "python/unityagents/\n",
      "python/unityagents/communicator.py\n",
      "python/unityagents/socket_communicator.py\n",
      "python/unityagents/brain.py\n",
      "python/unityagents/exception.py\n",
      "python/unityagents/curriculum.py\n",
      "python/unityagents/__init__.py\n",
      "python/unityagents/rpc_communicator.py\n",
      "python/unityagents/environment.py\n",
      "python/unitytrainers/\n",
      "python/unitytrainers/trainer_controller.py\n",
      "python/unitytrainers/ppo/\n",
      "python/unitytrainers/ppo/__init__.py\n",
      "python/unitytrainers/ppo/trainer.py\n",
      "python/unitytrainers/ppo/models.py\n",
      "python/unitytrainers/buffer.py\n",
      "python/unitytrainers/bc/\n",
      "python/unitytrainers/bc/__init__.py\n",
      "python/unitytrainers/bc/trainer.py\n",
      "python/unitytrainers/bc/models.py\n",
      "python/unitytrainers/__init__.py\n",
      "python/unitytrainers/trainer.py\n",
      "python/unitytrainers/models.py\n",
      "unity-environment.log\n"
     ]
    }
   ],
   "source": [
    "# download everything for submission\n",
    "!tar cvfz notebook.tar.gz *"
   ]
  },
  {
   "cell_type": "code",
   "execution_count": null,
   "metadata": {},
   "outputs": [],
   "source": []
  }
 ],
 "metadata": {
  "kernelspec": {
   "display_name": "Python 3",
   "language": "python",
   "name": "python3"
  },
  "language_info": {
   "codemirror_mode": {
    "name": "ipython",
    "version": 3
   },
   "file_extension": ".py",
   "mimetype": "text/x-python",
   "name": "python",
   "nbconvert_exporter": "python",
   "pygments_lexer": "ipython3",
   "version": "3.6.3"
  }
 },
 "nbformat": 4,
 "nbformat_minor": 2
}
