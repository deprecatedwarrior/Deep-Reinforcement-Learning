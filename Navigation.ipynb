{
 "cells": [
  {
   "cell_type": "markdown",
   "metadata": {},
   "source": [
    "# Navigation\n",
    "\n",
    "---\n",
    "\n",
    "You are welcome to use this coding environment to train your agent for the project.  Follow the instructions below to get started!\n",
    "\n",
    "### 1. Start the Environment\n",
    "\n",
    "Run the next code cell to install a few packages.  This line will take a few minutes to run!"
   ]
  },
  {
   "cell_type": "code",
   "execution_count": 2,
   "metadata": {},
   "outputs": [],
   "source": [
    "!pip -q install ./python"
   ]
  },
  {
   "cell_type": "markdown",
   "metadata": {},
   "source": [
    "The environment is already saved in the Workspace and can be accessed at the file path provided below.  Please run the next code cell without making any changes."
   ]
  },
  {
   "cell_type": "code",
   "execution_count": 3,
   "metadata": {},
   "outputs": [
    {
     "name": "stderr",
     "output_type": "stream",
     "text": [
      "INFO:unityagents:\n",
      "'Academy' started successfully!\n",
      "Unity Academy name: Academy\n",
      "        Number of Brains: 1\n",
      "        Number of External Brains : 1\n",
      "        Lesson number : 0\n",
      "        Reset Parameters :\n",
      "\t\t\n",
      "Unity brain name: BananaBrain\n",
      "        Number of Visual Observations (per agent): 0\n",
      "        Vector Observation space type: continuous\n",
      "        Vector Observation space size (per agent): 37\n",
      "        Number of stacked Vector Observation: 1\n",
      "        Vector Action space type: discrete\n",
      "        Vector Action space size (per agent): 4\n",
      "        Vector Action descriptions: , , , \n"
     ]
    }
   ],
   "source": [
    "from unityagents import UnityEnvironment\n",
    "import numpy as np\n",
    "\n",
    "# please do not modify the line below\n",
    "env = UnityEnvironment(file_name=\"/data/Banana_Linux_NoVis/Banana.x86_64\")"
   ]
  },
  {
   "cell_type": "markdown",
   "metadata": {},
   "source": [
    "Environments contain **_brains_** which are responsible for deciding the actions of their associated agents. Here we check for the first brain available, and set it as the default brain we will be controlling from Python."
   ]
  },
  {
   "cell_type": "code",
   "execution_count": 4,
   "metadata": {},
   "outputs": [],
   "source": [
    "# get the default brain\n",
    "brain_name = env.brain_names[0]\n",
    "brain = env.brains[brain_name]"
   ]
  },
  {
   "cell_type": "markdown",
   "metadata": {},
   "source": [
    "### 2. Examine the State and Action Spaces\n",
    "\n",
    "Run the code cell below to print some information about the environment."
   ]
  },
  {
   "cell_type": "code",
   "execution_count": 5,
   "metadata": {},
   "outputs": [
    {
     "name": "stdout",
     "output_type": "stream",
     "text": [
      "Number of agents: 1\n",
      "Number of actions: 4\n",
      "States look like: [ 1.          0.          0.          0.          0.84408134  0.          0.\n",
      "  1.          0.          0.0748472   0.          1.          0.          0.\n",
      "  0.25755     1.          0.          0.          0.          0.74177343\n",
      "  0.          1.          0.          0.          0.25854847  0.          0.\n",
      "  1.          0.          0.09355672  0.          1.          0.          0.\n",
      "  0.31969345  0.          0.        ]\n",
      "States have length: 37\n"
     ]
    }
   ],
   "source": [
    "# reset the environment\n",
    "env_info = env.reset(train_mode=True)[brain_name]\n",
    "\n",
    "# number of agents in the environment\n",
    "print('Number of agents:', len(env_info.agents))\n",
    "\n",
    "# number of actions\n",
    "action_size = brain.vector_action_space_size\n",
    "print('Number of actions:', action_size)\n",
    "\n",
    "# examine the state space \n",
    "state = env_info.vector_observations[0]\n",
    "print('States look like:', state)\n",
    "state_size = len(state)\n",
    "print('States have length:', state_size)"
   ]
  },
  {
   "cell_type": "code",
   "execution_count": 6,
   "metadata": {},
   "outputs": [
    {
     "data": {
      "text/plain": [
       "'BananaBrain'"
      ]
     },
     "execution_count": 6,
     "metadata": {},
     "output_type": "execute_result"
    }
   ],
   "source": [
    "brain_name"
   ]
  },
  {
   "cell_type": "markdown",
   "metadata": {},
   "source": [
    "### 3. Take Random Actions in the Environment\n",
    "\n",
    "In the next code cell, you will learn how to use the Python API to control the agent and receive feedback from the environment.\n",
    "\n",
    "Note that **in this coding environment, you will not be able to watch the agent while it is training**, and you should set `train_mode=True` to restart the environment."
   ]
  },
  {
   "cell_type": "code",
   "execution_count": 7,
   "metadata": {},
   "outputs": [],
   "source": [
    "# env_info = env.reset(train_mode=True)[brain_name] # reset the environment\n",
    "# state = env_info.vector_observations[0]            # get the current state\n",
    "# score = 0                                          # initialize the score\n",
    "# while True:\n",
    "#     action = np.random.randint(action_size)        # select an action\n",
    "#     env_info = env.step(action)[brain_name]        # send the action to the environment\n",
    "#     next_state = env_info.vector_observations[0]   # get the next state\n",
    "#     reward = env_info.rewards[0]                   # get the reward\n",
    "#     done = env_info.local_done[0]                  # see if episode has finished\n",
    "#     score += reward                                # update the score\n",
    "#     state = next_state                             # roll over the state to next time step\n",
    "#     if done:                                       # exit loop if episode finished\n",
    "#         break\n",
    "    \n",
    "# print(\"Score: {}\".format(score))"
   ]
  },
  {
   "cell_type": "markdown",
   "metadata": {},
   "source": [
    "When finished, you can close the environment."
   ]
  },
  {
   "cell_type": "code",
   "execution_count": 8,
   "metadata": {},
   "outputs": [],
   "source": [
    "# env.close()"
   ]
  },
  {
   "cell_type": "markdown",
   "metadata": {},
   "source": [
    "### 4. It's Your Turn!\n",
    "\n",
    "Now it's your turn to train your own agent to solve the environment!  A few **important notes**:\n",
    "- When training the environment, set `train_mode=True`, so that the line for resetting the environment looks like the following:\n",
    "```python\n",
    "env_info = env.reset(train_mode=True)[brain_name]\n",
    "```\n",
    "- To structure your work, you're welcome to work directly in this Jupyter notebook, or you might like to start over with a new file!  You can see the list of files in the workspace by clicking on **_Jupyter_** in the top left corner of the notebook.\n",
    "- In this coding environment, you will not be able to watch the agent while it is training.  However, **_after training the agent_**, you can download the saved model weights to watch the agent on your own machine! "
   ]
  },
  {
   "cell_type": "code",
   "execution_count": 9,
   "metadata": {},
   "outputs": [],
   "source": [
    "# For watching changes and reloading automatically\n",
    "% load_ext autoreload\n",
    "% autoreload 2"
   ]
  },
  {
   "cell_type": "code",
   "execution_count": 10,
   "metadata": {},
   "outputs": [],
   "source": [
    "import json\n",
    "with open(\"config.json\", \"r\") as f:\n",
    "    config = json.load(f)\n"
   ]
  },
  {
   "cell_type": "code",
   "execution_count": 11,
   "metadata": {},
   "outputs": [],
   "source": [
    "# Imports\n",
    "import os\n",
    "import numpy as np\n",
    "import torch\n",
    "from collections import deque\n",
    "from dqn_agent import Agent\n",
    "import matplotlib.pyplot as plt"
   ]
  },
  {
   "cell_type": "code",
   "execution_count": 12,
   "metadata": {},
   "outputs": [],
   "source": [
    "def choose_device(config, logger):\n",
    "\t\"\"\" Choose device \"\"\" \n",
    "\tif config[\"cuda\"] and not torch.cuda.is_available():\n",
    "\t\tlogger.warning(\"Warning: There's no CUDA support on this machine,\"\n",
    "\t\t\t\"training is performed on cpu.\")\n",
    "\t\tdevice = torch.device(\"cpu\")\n",
    "\telif not config[\"cuda\"] and torch.cuda.is_available():\n",
    "\t\tlogger.info(\"Training is performed on cpu by user's choice\")\n",
    "\t\tdevice = torch.device(\"cpu\")\n",
    "\telif not config[\"cuda\"] and not torch.cuda.is_available():\n",
    "\t\tlogger.info(\"Training on cpu\")\n",
    "\t\tdevice = torch.device(\"cpu\")\n",
    "\telse:\n",
    "\t\tlogger.info(\"Training on gpu\")\n",
    "\t\tdevice = torch.device(\"cuda:\" + str(config[\"gpu\"]))\t\n",
    "\n",
    "\treturn device \n",
    "\n",
    "def check_dir(path):\n",
    "\tif not os.path.exists(path):\n",
    "\t\tos.makedirs(path)"
   ]
  },
  {
   "cell_type": "code",
   "execution_count": 15,
   "metadata": {},
   "outputs": [
    {
     "name": "stderr",
     "output_type": "stream",
     "text": [
      "INFO:Agent:Training on cpu\n",
      "INFO:ReplayBuffer:Training on cpu\n"
     ]
    },
    {
     "name": "stdout",
     "output_type": "stream",
     "text": [
      "Episode 100\tAverage Score: 0.720\n",
      "Episode 200\tAverage Score: 3.410\n",
      "Episode 300\tAverage Score: 8.200\n",
      "Episode 400\tAverage Score: 11.740\n",
      "Episode 449\tAverage Score: 13.000\n",
      "Environment solved in 349 episodes!\tAverage Score: 13.000\n",
      "Episode 500\tAverage Score: 13.590\n",
      "Episode 600\tAverage Score: 15.020\n",
      "Episode 700\tAverage Score: 15.190\n",
      "Episode 800\tAverage Score: 15.760\n",
      "Episode 900\tAverage Score: 16.580\n",
      "Episode 1000\tAverage Score: 16.490\n",
      "Episode 1100\tAverage Score: 15.950\n",
      "Episode 1200\tAverage Score: 15.820\n",
      "Episode 1300\tAverage Score: 16.530\n",
      "Episode 1400\tAverage Score: 16.470\n",
      "Episode 1500\tAverage Score: 15.740\n",
      "Episode 1600\tAverage Score: 16.700\n",
      "Episode 1700\tAverage Score: 15.430\n",
      "Episode 1800\tAverage Score: 16.030\n",
      "Episode 1900\tAverage Score: 15.670\n",
      "Episode 2000\tAverage Score: 15.950\n"
     ]
    }
   ],
   "source": [
    "# Create the agent\n",
    "agent = Agent(state_size=37, action_size=4, config=config)\n",
    "\n",
    "# BananaBrain\n",
    "brain_name = env.brain_names[0]\n",
    "\n",
    "# Main DQN function\n",
    "def dqn(agent,\n",
    "        brain_name,\n",
    "        config,\n",
    "        num_episodes=config[\"trainer\"][\"num_episodes\"], \n",
    "        max_timesteps_per_ep=config[\"trainer\"][\"max_timesteps_per_ep\"], \n",
    "        eps_start=config[\"GLIE\"][\"eps_start\"], \n",
    "        eps_end=config[\"GLIE\"][\"eps_end\"], \n",
    "        eps_decay=config[\"GLIE\"][\"eps_decay\"]):\n",
    "    \n",
    "    \"\"\"\n",
    "    ---------------------\n",
    "    Deep Q-Network\n",
    "    ---------------------\n",
    "    Params:\n",
    "    n_episodes (int): maximum number of training episodes\n",
    "    max_t (int): maximum number of timesteps per episode\n",
    "    eps_start (float): starting value of epsilon, for epsilon-greedy action selection\n",
    "    eps_end (float): minimum value of epsilon\n",
    "    eps_decay (float): multiplicative factor (per episode) for decreasing epsilon \n",
    "    \n",
    "    \"\"\"\n",
    "    # When environment is technically solved\n",
    "    flag = False \n",
    "    \n",
    "    # Save path\n",
    "    save_path = config[\"trainer\"][\"save_dir\"] + config[\"exp_name\"] + \"/\" \n",
    "    \n",
    "    # list containing scores from each episodes\n",
    "    scores = [] \n",
    "    scores_window = deque(maxlen=100)\n",
    "    \n",
    "    # initial epsilon val\n",
    "    epsilon = eps_start\n",
    "    \n",
    "    for i_episode in range(1, num_episodes + 1):\n",
    "\n",
    "        # reset the environment\n",
    "        env_info = env.reset(train_mode=True)[brain_name]\n",
    "        \n",
    "        # get the current state\n",
    "        state = env_info.vector_observations[0]\n",
    "        \n",
    "        # initialize score to zero\n",
    "        score = 0\n",
    "        \n",
    "        for ep in range(max_timesteps_per_ep):\n",
    "            \n",
    "            # select the action based on epsilon-greedy policy\n",
    "            action = agent.act(state, epsilon) \n",
    "            \n",
    "            # send the action to the environment\n",
    "            env_info = env.step(action)[brain_name] \n",
    "            \n",
    "            # get the next state\n",
    "            next_state = env_info.vector_observations[0]\n",
    "            \n",
    "            # get the reward\n",
    "            reward = env_info.rewards[0]\n",
    "            \n",
    "            # see if episode has finished \n",
    "            done = env_info.local_done[0]\n",
    "            \n",
    "            # take step \n",
    "            agent.step(state, action, reward, next_state, done)\n",
    "            \n",
    "            # score update (cumulative reward)\n",
    "            score += reward\n",
    "            \n",
    "            # next state becomes the current state for next step\n",
    "            state = next_state\n",
    "            \n",
    "            # exit loop\n",
    "            if done: \n",
    "                break\n",
    "                \n",
    "        # Update epsilon \n",
    "        epsilon = max(eps_decay*epsilon, eps_end)\n",
    "        \n",
    "        # save most recent score\n",
    "        scores.append(score)\n",
    "        scores_window.append(score)\n",
    "        \n",
    "        print('\\rEpisode {}\\tAverage Score: {:.3f}'.format(i_episode, np.mean(scores_window)), end=\"\")\n",
    "\n",
    "        if (i_episode % 100 == 0): \n",
    "            print(\"\\rEpisode {}\\tAverage Score: {:.3f}\".format(i_episode, \\\n",
    "                                                               np.mean(scores_window)))\n",
    "        \n",
    "        # Save occasionnally\n",
    "        if (i_episode % config[\"trainer\"][\"save_freq\"] == 0):\n",
    "\n",
    "            torch.save(agent.qnetwork_local.state_dict(), save_path + \n",
    "                config[\"trainer\"][\"save_trained_name\"] + \"_\" + str(i_episode) + \".pth\")\n",
    "        \n",
    "        # Check if environment is solved (if not already)\n",
    "        if not flag:\n",
    "            if (np.mean(scores_window) >= 13.0):\n",
    "                print('\\nEnvironment solved in {:d} episodes!\\tAverage Score: {:.3f}'.format(\n",
    "                i_episode-100, np.mean(scores_window)))        \n",
    "                # Save solved model\n",
    "                torch.save(agent.qnetwork_local.state_dict(), save_path + \n",
    "                        config[\"trainer\"][\"save_trained_name\"] + \"_solved.pth\")\n",
    "                flag = True\n",
    "#                 break \n",
    "    \n",
    "    return scores\n",
    "\n",
    "scores = dqn(agent=agent, \n",
    "             brain_name=brain_name, \n",
    "             config=config)"
   ]
  },
  {
   "cell_type": "code",
   "execution_count": 17,
   "metadata": {},
   "outputs": [
    {
     "data": {
      "image/png": "[encoded data removed]",
      "text/plain": [
       "<matplotlib.figure.Figure at 0x7f32347b7358>"
      ]
     },
     "metadata": {
      "needs_background": "light"
     },
     "output_type": "display_data"
    }
   ],
   "source": [
    "import pandas as pd\n",
    "fig, ax = plt.subplots(1, 1, figsize=[10, 5])\n",
    "plt.rcParams.update({'font.size': 14})\n",
    "\n",
    "scores_rolling = pd.Series(scores).rolling(100).mean()\n",
    "ax.plot(scores, \"-\", c=\"blue\", alpha=0.25)\n",
    "ax.plot(scores_rolling, \"-\", c=\"red\", linewidth=2)\n",
    "ax.set_xlabel(\"Episode\")\n",
    "ax.set_ylabel(\"Score\")\n",
    "ax.grid(which=\"major\")\n",
    "ax.axhline(13, c=\"green\", linewidth=3, alpha=0.5)\n",
    "ax.legend([\"Reward per Episode\", \"Average of last 100 Episodes\", \"Target Score\"])\n",
    "\n",
    "fig.tight_layout()\n",
    "fig.savefig(\"plot.jpg\")"
   ]
  },
  {
   "cell_type": "code",
   "execution_count": null,
   "metadata": {},
   "outputs": [],
   "source": []
  },
  {
   "cell_type": "code",
   "execution_count": null,
   "metadata": {},
   "outputs": [],
   "source": []
  }
 ],
 "metadata": {
  "kernelspec": {
   "display_name": "Python 3",
   "language": "python",
   "name": "python3"
  },
  "language_info": {
   "codemirror_mode": {
    "name": "ipython",
    "version": 3
   },
   "file_extension": ".py",
   "mimetype": "text/x-python",
   "name": "python",
   "nbconvert_exporter": "python",
   "pygments_lexer": "ipython3",
   "version": "3.6.3"
  }
 },
 "nbformat": 4,
 "nbformat_minor": 2
}
